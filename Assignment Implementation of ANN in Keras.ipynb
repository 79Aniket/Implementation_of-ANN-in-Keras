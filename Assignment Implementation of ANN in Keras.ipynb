{
 "cells": [
  {
   "cell_type": "code",
   "execution_count": 1,
   "id": "e93b6400-ac5b-4fe1-9d15-9da3babcc95c",
   "metadata": {},
   "outputs": [
    {
     "name": "stdout",
     "output_type": "stream",
     "text": [
      "Collecting tensorflow\n",
      "  Downloading tensorflow-2.15.0.post1-cp310-cp310-manylinux_2_17_x86_64.manylinux2014_x86_64.whl (475.2 MB)\n",
      "\u001b[2K     \u001b[90m━━━━━━━━━━━━━━━━━━━━━━━━━━━━━━━━━━━━━━━\u001b[0m \u001b[32m475.2/475.2 MB\u001b[0m \u001b[31m3.1 MB/s\u001b[0m eta \u001b[36m0:00:00\u001b[0m00:01\u001b[0m00:01\u001b[0m\n",
      "\u001b[?25hCollecting tensorboard<2.16,>=2.15\n",
      "  Downloading tensorboard-2.15.1-py3-none-any.whl (5.5 MB)\n",
      "\u001b[2K     \u001b[90m━━━━━━━━━━━━━━━━━━━━━━━━━━━━━━━━━━━━━━━━\u001b[0m \u001b[32m5.5/5.5 MB\u001b[0m \u001b[31m70.8 MB/s\u001b[0m eta \u001b[36m0:00:00\u001b[0m:00:01\u001b[0m00:01\u001b[0m\n",
      "\u001b[?25hCollecting gast!=0.5.0,!=0.5.1,!=0.5.2,>=0.2.1\n",
      "  Downloading gast-0.5.4-py3-none-any.whl (19 kB)\n",
      "Collecting flatbuffers>=23.5.26\n",
      "  Downloading flatbuffers-23.5.26-py2.py3-none-any.whl (26 kB)\n",
      "Requirement already satisfied: setuptools in /opt/conda/lib/python3.10/site-packages (from tensorflow) (65.5.1)\n",
      "Collecting termcolor>=1.1.0\n",
      "  Downloading termcolor-2.4.0-py3-none-any.whl (7.7 kB)\n",
      "Requirement already satisfied: numpy<2.0.0,>=1.23.5 in /opt/conda/lib/python3.10/site-packages (from tensorflow) (1.23.5)\n",
      "Requirement already satisfied: typing-extensions>=3.6.6 in /opt/conda/lib/python3.10/site-packages (from tensorflow) (4.4.0)\n",
      "Collecting tensorflow-estimator<2.16,>=2.15.0\n",
      "  Downloading tensorflow_estimator-2.15.0-py2.py3-none-any.whl (441 kB)\n",
      "\u001b[2K     \u001b[90m━━━━━━━━━━━━━━━━━━━━━━━━━━━━━━━━━━━━━━\u001b[0m \u001b[32m442.0/442.0 kB\u001b[0m \u001b[31m41.3 MB/s\u001b[0m eta \u001b[36m0:00:00\u001b[0m\n",
      "\u001b[?25hCollecting wrapt<1.15,>=1.11.0\n",
      "  Downloading wrapt-1.14.1-cp310-cp310-manylinux_2_5_x86_64.manylinux1_x86_64.manylinux_2_17_x86_64.manylinux2014_x86_64.whl (77 kB)\n",
      "\u001b[2K     \u001b[90m━━━━━━━━━━━━━━━━━━━━━━━━━━━━━━━━━━━━━━━━\u001b[0m \u001b[32m77.9/77.9 kB\u001b[0m \u001b[31m14.3 MB/s\u001b[0m eta \u001b[36m0:00:00\u001b[0m\n",
      "\u001b[?25hCollecting opt-einsum>=2.3.2\n",
      "  Downloading opt_einsum-3.3.0-py3-none-any.whl (65 kB)\n",
      "\u001b[2K     \u001b[90m━━━━━━━━━━━━━━━━━━━━━━━━━━━━━━━━━━━━━━━━\u001b[0m \u001b[32m65.5/65.5 kB\u001b[0m \u001b[31m9.8 MB/s\u001b[0m eta \u001b[36m0:00:00\u001b[0m\n",
      "\u001b[?25hCollecting absl-py>=1.0.0\n",
      "  Downloading absl_py-2.0.0-py3-none-any.whl (130 kB)\n",
      "\u001b[2K     \u001b[90m━━━━━━━━━━━━━━━━━━━━━━━━━━━━━━━━━━━━━━\u001b[0m \u001b[32m130.2/130.2 kB\u001b[0m \u001b[31m22.9 MB/s\u001b[0m eta \u001b[36m0:00:00\u001b[0m\n",
      "\u001b[?25hCollecting grpcio<2.0,>=1.24.3\n",
      "  Downloading grpcio-1.60.0-cp310-cp310-manylinux_2_17_x86_64.manylinux2014_x86_64.whl (5.4 MB)\n",
      "\u001b[2K     \u001b[90m━━━━━━━━━━━━━━━━━━━━━━━━━━━━━━━━━━━━━━━━\u001b[0m \u001b[32m5.4/5.4 MB\u001b[0m \u001b[31m78.2 MB/s\u001b[0m eta \u001b[36m0:00:00\u001b[0mta \u001b[36m0:00:01\u001b[0m\n",
      "\u001b[?25hRequirement already satisfied: six>=1.12.0 in /opt/conda/lib/python3.10/site-packages (from tensorflow) (1.16.0)\n",
      "Collecting libclang>=13.0.0\n",
      "  Downloading libclang-16.0.6-py2.py3-none-manylinux2010_x86_64.whl (22.9 MB)\n",
      "\u001b[2K     \u001b[90m━━━━━━━━━━━━━━━━━━━━━━━━━━━━━━━━━━━━━━━━\u001b[0m \u001b[32m22.9/22.9 MB\u001b[0m \u001b[31m54.0 MB/s\u001b[0m eta \u001b[36m0:00:00\u001b[0m00:01\u001b[0m00:01\u001b[0m\n",
      "\u001b[?25hCollecting keras<2.16,>=2.15.0\n",
      "  Downloading keras-2.15.0-py3-none-any.whl (1.7 MB)\n",
      "\u001b[2K     \u001b[90m━━━━━━━━━━━━━━━━━━━━━━━━━━━━━━━━━━━━━━━━\u001b[0m \u001b[32m1.7/1.7 MB\u001b[0m \u001b[31m70.6 MB/s\u001b[0m eta \u001b[36m0:00:00\u001b[0m\n",
      "\u001b[?25hRequirement already satisfied: packaging in /opt/conda/lib/python3.10/site-packages (from tensorflow) (22.0)\n",
      "Collecting google-pasta>=0.1.1\n",
      "  Downloading google_pasta-0.2.0-py3-none-any.whl (57 kB)\n",
      "\u001b[2K     \u001b[90m━━━━━━━━━━━━━━━━━━━━━━━━━━━━━━━━━━━━━━━━\u001b[0m \u001b[32m57.5/57.5 kB\u001b[0m \u001b[31m11.5 MB/s\u001b[0m eta \u001b[36m0:00:00\u001b[0m\n",
      "\u001b[?25hRequirement already satisfied: h5py>=2.9.0 in /opt/conda/lib/python3.10/site-packages (from tensorflow) (3.7.0)\n",
      "Collecting ml-dtypes~=0.2.0\n",
      "  Downloading ml_dtypes-0.2.0-cp310-cp310-manylinux_2_17_x86_64.manylinux2014_x86_64.whl (1.0 MB)\n",
      "\u001b[2K     \u001b[90m━━━━━━━━━━━━━━━━━━━━━━━━━━━━━━━━━━━━━━━━\u001b[0m \u001b[32m1.0/1.0 MB\u001b[0m \u001b[31m67.2 MB/s\u001b[0m eta \u001b[36m0:00:00\u001b[0m\n",
      "\u001b[?25hCollecting tensorflow-io-gcs-filesystem>=0.23.1\n",
      "  Downloading tensorflow_io_gcs_filesystem-0.35.0-cp310-cp310-manylinux_2_17_x86_64.manylinux2014_x86_64.whl (3.2 MB)\n",
      "\u001b[2K     \u001b[90m━━━━━━━━━━━━━━━━━━━━━━━━━━━━━━━━━━━━━━━━\u001b[0m \u001b[32m3.2/3.2 MB\u001b[0m \u001b[31m78.2 MB/s\u001b[0m eta \u001b[36m0:00:00\u001b[0m:00:01\u001b[0m\n",
      "\u001b[?25hRequirement already satisfied: protobuf!=4.21.0,!=4.21.1,!=4.21.2,!=4.21.3,!=4.21.4,!=4.21.5,<5.0.0dev,>=3.20.3 in /opt/conda/lib/python3.10/site-packages (from tensorflow) (4.21.11)\n",
      "Collecting astunparse>=1.6.0\n",
      "  Downloading astunparse-1.6.3-py2.py3-none-any.whl (12 kB)\n",
      "Requirement already satisfied: wheel<1.0,>=0.23.0 in /opt/conda/lib/python3.10/site-packages (from astunparse>=1.6.0->tensorflow) (0.38.4)\n",
      "Collecting werkzeug>=1.0.1\n",
      "  Downloading werkzeug-3.0.1-py3-none-any.whl (226 kB)\n",
      "\u001b[2K     \u001b[90m━━━━━━━━━━━━━━━━━━━━━━━━━━━━━━━━━━━━━━\u001b[0m \u001b[32m226.7/226.7 kB\u001b[0m \u001b[31m31.8 MB/s\u001b[0m eta \u001b[36m0:00:00\u001b[0m\n",
      "\u001b[?25hCollecting google-auth-oauthlib<2,>=0.5\n",
      "  Downloading google_auth_oauthlib-1.2.0-py2.py3-none-any.whl (24 kB)\n",
      "Collecting google-auth<3,>=1.6.3\n",
      "  Downloading google_auth-2.26.2-py2.py3-none-any.whl (186 kB)\n",
      "\u001b[2K     \u001b[90m━━━━━━━━━━━━━━━━━━━━━━━━━━━━━━━━━━━━━━\u001b[0m \u001b[32m186.5/186.5 kB\u001b[0m \u001b[31m30.1 MB/s\u001b[0m eta \u001b[36m0:00:00\u001b[0m\n",
      "\u001b[?25hRequirement already satisfied: requests<3,>=2.21.0 in /opt/conda/lib/python3.10/site-packages (from tensorboard<2.16,>=2.15->tensorflow) (2.28.1)\n",
      "Collecting tensorboard-data-server<0.8.0,>=0.7.0\n",
      "  Downloading tensorboard_data_server-0.7.2-py3-none-manylinux_2_31_x86_64.whl (6.6 MB)\n",
      "\u001b[2K     \u001b[90m━━━━━━━━━━━━━━━━━━━━━━━━━━━━━━━━━━━━━━━━\u001b[0m \u001b[32m6.6/6.6 MB\u001b[0m \u001b[31m79.9 MB/s\u001b[0m eta \u001b[36m0:00:00\u001b[0m:00:01\u001b[0m00:01\u001b[0m\n",
      "\u001b[?25hCollecting markdown>=2.6.8\n",
      "  Downloading Markdown-3.5.2-py3-none-any.whl (103 kB)\n",
      "\u001b[2K     \u001b[90m━━━━━━━━━━━━━━━━━━━━━━━━━━━━━━━━━━━━━━\u001b[0m \u001b[32m103.9/103.9 kB\u001b[0m \u001b[31m18.7 MB/s\u001b[0m eta \u001b[36m0:00:00\u001b[0m\n",
      "\u001b[?25hCollecting rsa<5,>=3.1.4\n",
      "  Downloading rsa-4.9-py3-none-any.whl (34 kB)\n",
      "Collecting pyasn1-modules>=0.2.1\n",
      "  Downloading pyasn1_modules-0.3.0-py2.py3-none-any.whl (181 kB)\n",
      "\u001b[2K     \u001b[90m━━━━━━━━━━━━━━━━━━━━━━━━━━━━━━━━━━━━━━\u001b[0m \u001b[32m181.3/181.3 kB\u001b[0m \u001b[31m27.4 MB/s\u001b[0m eta \u001b[36m0:00:00\u001b[0m\n",
      "\u001b[?25hCollecting cachetools<6.0,>=2.0.0\n",
      "  Downloading cachetools-5.3.2-py3-none-any.whl (9.3 kB)\n",
      "Collecting requests-oauthlib>=0.7.0\n",
      "  Downloading requests_oauthlib-1.3.1-py2.py3-none-any.whl (23 kB)\n",
      "Requirement already satisfied: certifi>=2017.4.17 in /opt/conda/lib/python3.10/site-packages (from requests<3,>=2.21.0->tensorboard<2.16,>=2.15->tensorflow) (2022.12.7)\n",
      "Requirement already satisfied: charset-normalizer<3,>=2 in /opt/conda/lib/python3.10/site-packages (from requests<3,>=2.21.0->tensorboard<2.16,>=2.15->tensorflow) (2.1.1)\n",
      "Requirement already satisfied: urllib3<1.27,>=1.21.1 in /opt/conda/lib/python3.10/site-packages (from requests<3,>=2.21.0->tensorboard<2.16,>=2.15->tensorflow) (1.26.13)\n",
      "Requirement already satisfied: idna<4,>=2.5 in /opt/conda/lib/python3.10/site-packages (from requests<3,>=2.21.0->tensorboard<2.16,>=2.15->tensorflow) (3.4)\n",
      "Requirement already satisfied: MarkupSafe>=2.1.1 in /opt/conda/lib/python3.10/site-packages (from werkzeug>=1.0.1->tensorboard<2.16,>=2.15->tensorflow) (2.1.1)\n",
      "Collecting pyasn1<0.6.0,>=0.4.6\n",
      "  Downloading pyasn1-0.5.1-py2.py3-none-any.whl (84 kB)\n",
      "\u001b[2K     \u001b[90m━━━━━━━━━━━━━━━━━━━━━━━━━━━━━━━━━━━━━━━━\u001b[0m \u001b[32m84.9/84.9 kB\u001b[0m \u001b[31m4.9 MB/s\u001b[0m eta \u001b[36m0:00:00\u001b[0m\n",
      "\u001b[?25hRequirement already satisfied: oauthlib>=3.0.0 in /opt/conda/lib/python3.10/site-packages (from requests-oauthlib>=0.7.0->google-auth-oauthlib<2,>=0.5->tensorboard<2.16,>=2.15->tensorflow) (3.2.2)\n",
      "Installing collected packages: libclang, flatbuffers, wrapt, werkzeug, termcolor, tensorflow-io-gcs-filesystem, tensorflow-estimator, tensorboard-data-server, pyasn1, opt-einsum, ml-dtypes, markdown, keras, grpcio, google-pasta, gast, cachetools, astunparse, absl-py, rsa, requests-oauthlib, pyasn1-modules, google-auth, google-auth-oauthlib, tensorboard, tensorflow\n",
      "Successfully installed absl-py-2.0.0 astunparse-1.6.3 cachetools-5.3.2 flatbuffers-23.5.26 gast-0.5.4 google-auth-2.26.2 google-auth-oauthlib-1.2.0 google-pasta-0.2.0 grpcio-1.60.0 keras-2.15.0 libclang-16.0.6 markdown-3.5.2 ml-dtypes-0.2.0 opt-einsum-3.3.0 pyasn1-0.5.1 pyasn1-modules-0.3.0 requests-oauthlib-1.3.1 rsa-4.9 tensorboard-2.15.1 tensorboard-data-server-0.7.2 tensorflow-2.15.0.post1 tensorflow-estimator-2.15.0 tensorflow-io-gcs-filesystem-0.35.0 termcolor-2.4.0 werkzeug-3.0.1 wrapt-1.14.1\n",
      "Note: you may need to restart the kernel to use updated packages.\n"
     ]
    }
   ],
   "source": [
    "pip install tensorflow"
   ]
  },
  {
   "cell_type": "markdown",
   "id": "db75430f-68bd-4491-b445-d595e875624d",
   "metadata": {},
   "source": [
    "## Q1. Install and load the latest versions of TensorFlow and Keras. Print their versions."
   ]
  },
  {
   "cell_type": "code",
   "execution_count": 1,
   "id": "901a84a7-d1f3-4411-a250-c7c7cb39a393",
   "metadata": {},
   "outputs": [
    {
     "name": "stderr",
     "output_type": "stream",
     "text": [
      "2024-01-11 10:04:30.197634: I external/local_tsl/tsl/cuda/cudart_stub.cc:31] Could not find cuda drivers on your machine, GPU will not be used.\n",
      "2024-01-11 10:04:30.261842: E external/local_xla/xla/stream_executor/cuda/cuda_dnn.cc:9261] Unable to register cuDNN factory: Attempting to register factory for plugin cuDNN when one has already been registered\n",
      "2024-01-11 10:04:30.261895: E external/local_xla/xla/stream_executor/cuda/cuda_fft.cc:607] Unable to register cuFFT factory: Attempting to register factory for plugin cuFFT when one has already been registered\n",
      "2024-01-11 10:04:30.263363: E external/local_xla/xla/stream_executor/cuda/cuda_blas.cc:1515] Unable to register cuBLAS factory: Attempting to register factory for plugin cuBLAS when one has already been registered\n",
      "2024-01-11 10:04:30.272111: I external/local_tsl/tsl/cuda/cudart_stub.cc:31] Could not find cuda drivers on your machine, GPU will not be used.\n",
      "2024-01-11 10:04:30.272954: I tensorflow/core/platform/cpu_feature_guard.cc:182] This TensorFlow binary is optimized to use available CPU instructions in performance-critical operations.\n",
      "To enable the following instructions: AVX2 FMA, in other operations, rebuild TensorFlow with the appropriate compiler flags.\n",
      "2024-01-11 10:04:31.470555: W tensorflow/compiler/tf2tensorrt/utils/py_utils.cc:38] TF-TRT Warning: Could not find TensorRT\n"
     ]
    }
   ],
   "source": [
    "#Importing the libraries\n",
    "import keras\n",
    "import tensorflow as tf\n",
    "import pandas as pd\n",
    "import numpy as np\n",
    "import matplotlib.pyplot as plt\n",
    "import seaborn as sns\n",
    "from sklearn.model_selection import train_test_split"
   ]
  },
  {
   "cell_type": "code",
   "execution_count": 2,
   "id": "3eea2c9d-ce43-4114-b6a5-4562f44d6114",
   "metadata": {},
   "outputs": [
    {
     "name": "stdout",
     "output_type": "stream",
     "text": [
      "Tensorflow Version 2.15.0\n",
      "Keras Version 2.15.0\n"
     ]
    }
   ],
   "source": [
    "#Printing their versions\n",
    "print(f\"Tensorflow Version {tf.__version__}\")\n",
    "print(f\"Keras Version {keras.__version__}\")"
   ]
  },
  {
   "cell_type": "markdown",
   "id": "a600d1b4-2958-4d53-8b55-374f0f391091",
   "metadata": {},
   "source": [
    "## Q2. Load the Wine Quality dataset and explore its dimensions. Dataset link: https://www.kaggle.com/datasets/nareshbhat/wine-quality-binary-classification"
   ]
  },
  {
   "cell_type": "code",
   "execution_count": 3,
   "id": "e82f75e8-1ab2-4b8a-9405-aa5248c29c50",
   "metadata": {},
   "outputs": [],
   "source": [
    "df = pd.read_csv(\"https://raw.githubusercontent.com/79Aniket/79Aniket/main/wine.csv\")"
   ]
  },
  {
   "cell_type": "code",
   "execution_count": 4,
   "id": "b5cff37c-b502-45f7-9ccb-77756a6bbf33",
   "metadata": {},
   "outputs": [
    {
     "data": {
      "text/html": [
       "<div>\n",
       "<style scoped>\n",
       "    .dataframe tbody tr th:only-of-type {\n",
       "        vertical-align: middle;\n",
       "    }\n",
       "\n",
       "    .dataframe tbody tr th {\n",
       "        vertical-align: top;\n",
       "    }\n",
       "\n",
       "    .dataframe thead th {\n",
       "        text-align: right;\n",
       "    }\n",
       "</style>\n",
       "<table border=\"1\" class=\"dataframe\">\n",
       "  <thead>\n",
       "    <tr style=\"text-align: right;\">\n",
       "      <th></th>\n",
       "      <th>fixed acidity</th>\n",
       "      <th>volatile acidity</th>\n",
       "      <th>citric acid</th>\n",
       "      <th>residual sugar</th>\n",
       "      <th>chlorides</th>\n",
       "      <th>free sulfur dioxide</th>\n",
       "      <th>total sulfur dioxide</th>\n",
       "      <th>density</th>\n",
       "      <th>pH</th>\n",
       "      <th>sulphates</th>\n",
       "      <th>alcohol</th>\n",
       "      <th>quality</th>\n",
       "    </tr>\n",
       "  </thead>\n",
       "  <tbody>\n",
       "    <tr>\n",
       "      <th>0</th>\n",
       "      <td>7.4</td>\n",
       "      <td>0.70</td>\n",
       "      <td>0.00</td>\n",
       "      <td>1.9</td>\n",
       "      <td>0.076</td>\n",
       "      <td>11.0</td>\n",
       "      <td>34.0</td>\n",
       "      <td>0.9978</td>\n",
       "      <td>3.51</td>\n",
       "      <td>0.56</td>\n",
       "      <td>9.4</td>\n",
       "      <td>bad</td>\n",
       "    </tr>\n",
       "    <tr>\n",
       "      <th>1</th>\n",
       "      <td>7.8</td>\n",
       "      <td>0.88</td>\n",
       "      <td>0.00</td>\n",
       "      <td>2.6</td>\n",
       "      <td>0.098</td>\n",
       "      <td>25.0</td>\n",
       "      <td>67.0</td>\n",
       "      <td>0.9968</td>\n",
       "      <td>3.20</td>\n",
       "      <td>0.68</td>\n",
       "      <td>9.8</td>\n",
       "      <td>bad</td>\n",
       "    </tr>\n",
       "    <tr>\n",
       "      <th>2</th>\n",
       "      <td>7.8</td>\n",
       "      <td>0.76</td>\n",
       "      <td>0.04</td>\n",
       "      <td>2.3</td>\n",
       "      <td>0.092</td>\n",
       "      <td>15.0</td>\n",
       "      <td>54.0</td>\n",
       "      <td>0.9970</td>\n",
       "      <td>3.26</td>\n",
       "      <td>0.65</td>\n",
       "      <td>9.8</td>\n",
       "      <td>bad</td>\n",
       "    </tr>\n",
       "    <tr>\n",
       "      <th>3</th>\n",
       "      <td>11.2</td>\n",
       "      <td>0.28</td>\n",
       "      <td>0.56</td>\n",
       "      <td>1.9</td>\n",
       "      <td>0.075</td>\n",
       "      <td>17.0</td>\n",
       "      <td>60.0</td>\n",
       "      <td>0.9980</td>\n",
       "      <td>3.16</td>\n",
       "      <td>0.58</td>\n",
       "      <td>9.8</td>\n",
       "      <td>good</td>\n",
       "    </tr>\n",
       "    <tr>\n",
       "      <th>4</th>\n",
       "      <td>7.4</td>\n",
       "      <td>0.70</td>\n",
       "      <td>0.00</td>\n",
       "      <td>1.9</td>\n",
       "      <td>0.076</td>\n",
       "      <td>11.0</td>\n",
       "      <td>34.0</td>\n",
       "      <td>0.9978</td>\n",
       "      <td>3.51</td>\n",
       "      <td>0.56</td>\n",
       "      <td>9.4</td>\n",
       "      <td>bad</td>\n",
       "    </tr>\n",
       "  </tbody>\n",
       "</table>\n",
       "</div>"
      ],
      "text/plain": [
       "   fixed acidity  volatile acidity  citric acid  residual sugar  chlorides  \\\n",
       "0            7.4              0.70         0.00             1.9      0.076   \n",
       "1            7.8              0.88         0.00             2.6      0.098   \n",
       "2            7.8              0.76         0.04             2.3      0.092   \n",
       "3           11.2              0.28         0.56             1.9      0.075   \n",
       "4            7.4              0.70         0.00             1.9      0.076   \n",
       "\n",
       "   free sulfur dioxide  total sulfur dioxide  density    pH  sulphates  \\\n",
       "0                 11.0                  34.0   0.9978  3.51       0.56   \n",
       "1                 25.0                  67.0   0.9968  3.20       0.68   \n",
       "2                 15.0                  54.0   0.9970  3.26       0.65   \n",
       "3                 17.0                  60.0   0.9980  3.16       0.58   \n",
       "4                 11.0                  34.0   0.9978  3.51       0.56   \n",
       "\n",
       "   alcohol quality  \n",
       "0      9.4     bad  \n",
       "1      9.8     bad  \n",
       "2      9.8     bad  \n",
       "3      9.8    good  \n",
       "4      9.4     bad  "
      ]
     },
     "execution_count": 4,
     "metadata": {},
     "output_type": "execute_result"
    }
   ],
   "source": [
    "df.head()"
   ]
  },
  {
   "cell_type": "markdown",
   "id": "2ed32ce9-76c4-44d2-ac49-294e9f702986",
   "metadata": {},
   "source": [
    "## Q3. Check for null values, identify categorical variables, and encode them."
   ]
  },
  {
   "cell_type": "code",
   "execution_count": 5,
   "id": "becbb063-bc7e-4416-8793-1d1333c9b324",
   "metadata": {},
   "outputs": [
    {
     "data": {
      "text/plain": [
       "fixed acidity           0\n",
       "volatile acidity        0\n",
       "citric acid             0\n",
       "residual sugar          0\n",
       "chlorides               0\n",
       "free sulfur dioxide     0\n",
       "total sulfur dioxide    0\n",
       "density                 0\n",
       "pH                      0\n",
       "sulphates               0\n",
       "alcohol                 0\n",
       "quality                 0\n",
       "dtype: int64"
      ]
     },
     "execution_count": 5,
     "metadata": {},
     "output_type": "execute_result"
    }
   ],
   "source": [
    "df.isnull().sum()"
   ]
  },
  {
   "cell_type": "code",
   "execution_count": 6,
   "id": "2a3410f0-93e9-4051-baaa-27302ad9fe26",
   "metadata": {},
   "outputs": [
    {
     "data": {
      "text/plain": [
       "240"
      ]
     },
     "execution_count": 6,
     "metadata": {},
     "output_type": "execute_result"
    }
   ],
   "source": [
    "#Checking for duplicates\n",
    "df.duplicated().sum()"
   ]
  },
  {
   "cell_type": "code",
   "execution_count": 7,
   "id": "673496e3-b479-418c-9ecb-5632e92acf88",
   "metadata": {},
   "outputs": [
    {
     "data": {
      "text/plain": [
       "(1599, 12)"
      ]
     },
     "execution_count": 7,
     "metadata": {},
     "output_type": "execute_result"
    }
   ],
   "source": [
    "#Shape of the dataset\n",
    "df.shape"
   ]
  },
  {
   "cell_type": "code",
   "execution_count": 8,
   "id": "e6b66e47-fc6a-45ea-b0dc-1c5194de302c",
   "metadata": {},
   "outputs": [
    {
     "data": {
      "text/plain": [
       "(1359, 12)"
      ]
     },
     "execution_count": 8,
     "metadata": {},
     "output_type": "execute_result"
    }
   ],
   "source": [
    "#Dropiping the duplicates\n",
    "df = df.drop_duplicates(keep=\"first\")\n",
    "df.shape"
   ]
  },
  {
   "cell_type": "code",
   "execution_count": 9,
   "id": "3665b47e-a1e1-4df0-a37e-a474840e4afd",
   "metadata": {},
   "outputs": [
    {
     "name": "stdout",
     "output_type": "stream",
     "text": [
      "<class 'pandas.core.frame.DataFrame'>\n",
      "Int64Index: 1359 entries, 0 to 1598\n",
      "Data columns (total 12 columns):\n",
      " #   Column                Non-Null Count  Dtype  \n",
      "---  ------                --------------  -----  \n",
      " 0   fixed acidity         1359 non-null   float64\n",
      " 1   volatile acidity      1359 non-null   float64\n",
      " 2   citric acid           1359 non-null   float64\n",
      " 3   residual sugar        1359 non-null   float64\n",
      " 4   chlorides             1359 non-null   float64\n",
      " 5   free sulfur dioxide   1359 non-null   float64\n",
      " 6   total sulfur dioxide  1359 non-null   float64\n",
      " 7   density               1359 non-null   float64\n",
      " 8   pH                    1359 non-null   float64\n",
      " 9   sulphates             1359 non-null   float64\n",
      " 10  alcohol               1359 non-null   float64\n",
      " 11  quality               1359 non-null   object \n",
      "dtypes: float64(11), object(1)\n",
      "memory usage: 138.0+ KB\n"
     ]
    }
   ],
   "source": [
    "df.info()"
   ]
  },
  {
   "cell_type": "code",
   "execution_count": 10,
   "id": "7890ed62-26a4-4188-9535-104fee77bf0b",
   "metadata": {},
   "outputs": [
    {
     "data": {
      "text/plain": [
       "array(['bad', 'good'], dtype=object)"
      ]
     },
     "execution_count": 10,
     "metadata": {},
     "output_type": "execute_result"
    }
   ],
   "source": [
    "#Checking unique values to perform encoding\n",
    "df['quality'].unique()"
   ]
  },
  {
   "cell_type": "code",
   "execution_count": 11,
   "id": "94e19bf2-d17d-43bb-957d-f9b34ca97a42",
   "metadata": {},
   "outputs": [],
   "source": [
    "values = {\"bad\" : 0, \"good\" : 1}"
   ]
  },
  {
   "cell_type": "code",
   "execution_count": 12,
   "id": "e1768720-4e3d-4774-a631-0c18e0b9caa1",
   "metadata": {},
   "outputs": [
    {
     "data": {
      "text/html": [
       "<div>\n",
       "<style scoped>\n",
       "    .dataframe tbody tr th:only-of-type {\n",
       "        vertical-align: middle;\n",
       "    }\n",
       "\n",
       "    .dataframe tbody tr th {\n",
       "        vertical-align: top;\n",
       "    }\n",
       "\n",
       "    .dataframe thead th {\n",
       "        text-align: right;\n",
       "    }\n",
       "</style>\n",
       "<table border=\"1\" class=\"dataframe\">\n",
       "  <thead>\n",
       "    <tr style=\"text-align: right;\">\n",
       "      <th></th>\n",
       "      <th>fixed acidity</th>\n",
       "      <th>volatile acidity</th>\n",
       "      <th>citric acid</th>\n",
       "      <th>residual sugar</th>\n",
       "      <th>chlorides</th>\n",
       "      <th>free sulfur dioxide</th>\n",
       "      <th>total sulfur dioxide</th>\n",
       "      <th>density</th>\n",
       "      <th>pH</th>\n",
       "      <th>sulphates</th>\n",
       "      <th>alcohol</th>\n",
       "      <th>quality</th>\n",
       "    </tr>\n",
       "  </thead>\n",
       "  <tbody>\n",
       "    <tr>\n",
       "      <th>0</th>\n",
       "      <td>7.4</td>\n",
       "      <td>0.70</td>\n",
       "      <td>0.00</td>\n",
       "      <td>1.9</td>\n",
       "      <td>0.076</td>\n",
       "      <td>11.0</td>\n",
       "      <td>34.0</td>\n",
       "      <td>0.9978</td>\n",
       "      <td>3.51</td>\n",
       "      <td>0.56</td>\n",
       "      <td>9.4</td>\n",
       "      <td>0</td>\n",
       "    </tr>\n",
       "    <tr>\n",
       "      <th>1</th>\n",
       "      <td>7.8</td>\n",
       "      <td>0.88</td>\n",
       "      <td>0.00</td>\n",
       "      <td>2.6</td>\n",
       "      <td>0.098</td>\n",
       "      <td>25.0</td>\n",
       "      <td>67.0</td>\n",
       "      <td>0.9968</td>\n",
       "      <td>3.20</td>\n",
       "      <td>0.68</td>\n",
       "      <td>9.8</td>\n",
       "      <td>0</td>\n",
       "    </tr>\n",
       "    <tr>\n",
       "      <th>2</th>\n",
       "      <td>7.8</td>\n",
       "      <td>0.76</td>\n",
       "      <td>0.04</td>\n",
       "      <td>2.3</td>\n",
       "      <td>0.092</td>\n",
       "      <td>15.0</td>\n",
       "      <td>54.0</td>\n",
       "      <td>0.9970</td>\n",
       "      <td>3.26</td>\n",
       "      <td>0.65</td>\n",
       "      <td>9.8</td>\n",
       "      <td>0</td>\n",
       "    </tr>\n",
       "    <tr>\n",
       "      <th>3</th>\n",
       "      <td>11.2</td>\n",
       "      <td>0.28</td>\n",
       "      <td>0.56</td>\n",
       "      <td>1.9</td>\n",
       "      <td>0.075</td>\n",
       "      <td>17.0</td>\n",
       "      <td>60.0</td>\n",
       "      <td>0.9980</td>\n",
       "      <td>3.16</td>\n",
       "      <td>0.58</td>\n",
       "      <td>9.8</td>\n",
       "      <td>1</td>\n",
       "    </tr>\n",
       "    <tr>\n",
       "      <th>5</th>\n",
       "      <td>7.4</td>\n",
       "      <td>0.66</td>\n",
       "      <td>0.00</td>\n",
       "      <td>1.8</td>\n",
       "      <td>0.075</td>\n",
       "      <td>13.0</td>\n",
       "      <td>40.0</td>\n",
       "      <td>0.9978</td>\n",
       "      <td>3.51</td>\n",
       "      <td>0.56</td>\n",
       "      <td>9.4</td>\n",
       "      <td>0</td>\n",
       "    </tr>\n",
       "  </tbody>\n",
       "</table>\n",
       "</div>"
      ],
      "text/plain": [
       "   fixed acidity  volatile acidity  citric acid  residual sugar  chlorides  \\\n",
       "0            7.4              0.70         0.00             1.9      0.076   \n",
       "1            7.8              0.88         0.00             2.6      0.098   \n",
       "2            7.8              0.76         0.04             2.3      0.092   \n",
       "3           11.2              0.28         0.56             1.9      0.075   \n",
       "5            7.4              0.66         0.00             1.8      0.075   \n",
       "\n",
       "   free sulfur dioxide  total sulfur dioxide  density    pH  sulphates  \\\n",
       "0                 11.0                  34.0   0.9978  3.51       0.56   \n",
       "1                 25.0                  67.0   0.9968  3.20       0.68   \n",
       "2                 15.0                  54.0   0.9970  3.26       0.65   \n",
       "3                 17.0                  60.0   0.9980  3.16       0.58   \n",
       "5                 13.0                  40.0   0.9978  3.51       0.56   \n",
       "\n",
       "   alcohol  quality  \n",
       "0      9.4        0  \n",
       "1      9.8        0  \n",
       "2      9.8        0  \n",
       "3      9.8        1  \n",
       "5      9.4        0  "
      ]
     },
     "execution_count": 12,
     "metadata": {},
     "output_type": "execute_result"
    }
   ],
   "source": [
    "#Mapping values so we convert the categorical column to numerical\n",
    "df['quality'] = df['quality'].map(values)\n",
    "df.head()"
   ]
  },
  {
   "cell_type": "code",
   "execution_count": 13,
   "id": "482ec21b-b0ae-462d-90b4-422a9d8843ed",
   "metadata": {},
   "outputs": [
    {
     "data": {
      "text/plain": [
       "1    719\n",
       "0    640\n",
       "Name: quality, dtype: int64"
      ]
     },
     "execution_count": 13,
     "metadata": {},
     "output_type": "execute_result"
    }
   ],
   "source": [
    "#Checking class balance\n",
    "df[\"quality\"].value_counts()"
   ]
  },
  {
   "cell_type": "markdown",
   "id": "e5601ca3-5318-4fad-a2cd-01d37e5d07a6",
   "metadata": {},
   "source": [
    "## Q4. Separate the features and target variables from the dataset."
   ]
  },
  {
   "cell_type": "code",
   "execution_count": 14,
   "id": "29a9ffb8-93f8-4970-918e-2bb513c1d05a",
   "metadata": {},
   "outputs": [],
   "source": [
    "#Dependent and Independent Variables\n",
    "X = df.drop(labels=[\"quality\"],axis=1)\n",
    "y = df[\"quality\"]"
   ]
  },
  {
   "cell_type": "code",
   "execution_count": 15,
   "id": "0710a928-0035-4101-ae94-a96fe3e6a06d",
   "metadata": {},
   "outputs": [
    {
     "data": {
      "text/plain": [
       "((1359, 11), (1359,))"
      ]
     },
     "execution_count": 15,
     "metadata": {},
     "output_type": "execute_result"
    }
   ],
   "source": [
    "X.shape , y.shape"
   ]
  },
  {
   "cell_type": "markdown",
   "id": "100d186b-620c-4b94-8db3-b1f3b59c95a1",
   "metadata": {},
   "source": [
    "## Q5. Perform a train-test split, dividing the data into training, validation, and test datasets."
   ]
  },
  {
   "cell_type": "code",
   "execution_count": 16,
   "id": "93816a6d-1a10-4010-afa7-d41f47c71636",
   "metadata": {},
   "outputs": [
    {
     "name": "stdout",
     "output_type": "stream",
     "text": [
      "Training Data Shape : ((869, 11), (869,))\n",
      "Testing Data Shape : ((272, 11), (272,))\n",
      "Validation Data Shape : ((218, 11), (218,))\n"
     ]
    }
   ],
   "source": [
    "#Performing train test split\n",
    "X_train , X_test ,y_train , y_test = train_test_split(X,y,test_size= 0.20,random_state=42)\n",
    "#Further Splitting train into train and validation data\n",
    "X_train ,X_valid, y_train , y_valid = train_test_split(X_train,y_train,test_size= 0.20,random_state=42)\n",
    "\n",
    "print(f\"Training Data Shape : {X_train.shape , y_train.shape}\")\n",
    "print(f\"Testing Data Shape : {X_test.shape , y_test.shape}\")\n",
    "print(f\"Validation Data Shape : {X_valid.shape , y_valid.shape}\")"
   ]
  },
  {
   "cell_type": "code",
   "execution_count": 17,
   "id": "380fabb3-0ed4-4e23-9382-6244ac49af6d",
   "metadata": {},
   "outputs": [
    {
     "data": {
      "text/html": [
       "<div>\n",
       "<style scoped>\n",
       "    .dataframe tbody tr th:only-of-type {\n",
       "        vertical-align: middle;\n",
       "    }\n",
       "\n",
       "    .dataframe tbody tr th {\n",
       "        vertical-align: top;\n",
       "    }\n",
       "\n",
       "    .dataframe thead th {\n",
       "        text-align: right;\n",
       "    }\n",
       "</style>\n",
       "<table border=\"1\" class=\"dataframe\">\n",
       "  <thead>\n",
       "    <tr style=\"text-align: right;\">\n",
       "      <th></th>\n",
       "      <th>fixed acidity</th>\n",
       "      <th>volatile acidity</th>\n",
       "      <th>citric acid</th>\n",
       "      <th>residual sugar</th>\n",
       "      <th>chlorides</th>\n",
       "      <th>free sulfur dioxide</th>\n",
       "      <th>total sulfur dioxide</th>\n",
       "      <th>density</th>\n",
       "      <th>pH</th>\n",
       "      <th>sulphates</th>\n",
       "      <th>alcohol</th>\n",
       "    </tr>\n",
       "  </thead>\n",
       "  <tbody>\n",
       "    <tr>\n",
       "      <th>0</th>\n",
       "      <td>7.4</td>\n",
       "      <td>0.70</td>\n",
       "      <td>0.00</td>\n",
       "      <td>1.9</td>\n",
       "      <td>0.076</td>\n",
       "      <td>11.0</td>\n",
       "      <td>34.0</td>\n",
       "      <td>0.9978</td>\n",
       "      <td>3.51</td>\n",
       "      <td>0.56</td>\n",
       "      <td>9.4</td>\n",
       "    </tr>\n",
       "    <tr>\n",
       "      <th>1</th>\n",
       "      <td>7.8</td>\n",
       "      <td>0.88</td>\n",
       "      <td>0.00</td>\n",
       "      <td>2.6</td>\n",
       "      <td>0.098</td>\n",
       "      <td>25.0</td>\n",
       "      <td>67.0</td>\n",
       "      <td>0.9968</td>\n",
       "      <td>3.20</td>\n",
       "      <td>0.68</td>\n",
       "      <td>9.8</td>\n",
       "    </tr>\n",
       "    <tr>\n",
       "      <th>2</th>\n",
       "      <td>7.8</td>\n",
       "      <td>0.76</td>\n",
       "      <td>0.04</td>\n",
       "      <td>2.3</td>\n",
       "      <td>0.092</td>\n",
       "      <td>15.0</td>\n",
       "      <td>54.0</td>\n",
       "      <td>0.9970</td>\n",
       "      <td>3.26</td>\n",
       "      <td>0.65</td>\n",
       "      <td>9.8</td>\n",
       "    </tr>\n",
       "    <tr>\n",
       "      <th>3</th>\n",
       "      <td>11.2</td>\n",
       "      <td>0.28</td>\n",
       "      <td>0.56</td>\n",
       "      <td>1.9</td>\n",
       "      <td>0.075</td>\n",
       "      <td>17.0</td>\n",
       "      <td>60.0</td>\n",
       "      <td>0.9980</td>\n",
       "      <td>3.16</td>\n",
       "      <td>0.58</td>\n",
       "      <td>9.8</td>\n",
       "    </tr>\n",
       "    <tr>\n",
       "      <th>5</th>\n",
       "      <td>7.4</td>\n",
       "      <td>0.66</td>\n",
       "      <td>0.00</td>\n",
       "      <td>1.8</td>\n",
       "      <td>0.075</td>\n",
       "      <td>13.0</td>\n",
       "      <td>40.0</td>\n",
       "      <td>0.9978</td>\n",
       "      <td>3.51</td>\n",
       "      <td>0.56</td>\n",
       "      <td>9.4</td>\n",
       "    </tr>\n",
       "  </tbody>\n",
       "</table>\n",
       "</div>"
      ],
      "text/plain": [
       "   fixed acidity  volatile acidity  citric acid  residual sugar  chlorides  \\\n",
       "0            7.4              0.70         0.00             1.9      0.076   \n",
       "1            7.8              0.88         0.00             2.6      0.098   \n",
       "2            7.8              0.76         0.04             2.3      0.092   \n",
       "3           11.2              0.28         0.56             1.9      0.075   \n",
       "5            7.4              0.66         0.00             1.8      0.075   \n",
       "\n",
       "   free sulfur dioxide  total sulfur dioxide  density    pH  sulphates  \\\n",
       "0                 11.0                  34.0   0.9978  3.51       0.56   \n",
       "1                 25.0                  67.0   0.9968  3.20       0.68   \n",
       "2                 15.0                  54.0   0.9970  3.26       0.65   \n",
       "3                 17.0                  60.0   0.9980  3.16       0.58   \n",
       "5                 13.0                  40.0   0.9978  3.51       0.56   \n",
       "\n",
       "   alcohol  \n",
       "0      9.4  \n",
       "1      9.8  \n",
       "2      9.8  \n",
       "3      9.8  \n",
       "5      9.4  "
      ]
     },
     "execution_count": 17,
     "metadata": {},
     "output_type": "execute_result"
    }
   ],
   "source": [
    "X.head()"
   ]
  },
  {
   "cell_type": "markdown",
   "id": "255294bc-37bb-437d-8824-ce0413194ab2",
   "metadata": {},
   "source": [
    "## Q6. Scale the dataset using an appropriate scaling technique."
   ]
  },
  {
   "cell_type": "code",
   "execution_count": 18,
   "id": "4290e7ae-eb7b-4230-8abf-a2fcc1e7ba97",
   "metadata": {},
   "outputs": [],
   "source": [
    "#Scaling the data\n",
    "from sklearn.preprocessing import StandardScaler\n",
    "\n",
    "scaler = StandardScaler()\n",
    "X_train = scaler.fit_transform(X_train)\n",
    "X_test = scaler.transform(X_test)\n",
    "X_valid = scaler.transform(X_valid)"
   ]
  },
  {
   "cell_type": "code",
   "execution_count": 19,
   "id": "de679ac6-7796-4eb7-ac70-913a11f73690",
   "metadata": {},
   "outputs": [
    {
     "data": {
      "text/plain": [
       "(11,)"
      ]
     },
     "execution_count": 19,
     "metadata": {},
     "output_type": "execute_result"
    }
   ],
   "source": [
    "#We have 11 input features which will passed as input to our neural network first layer\n",
    "X_train.shape[1:]"
   ]
  },
  {
   "cell_type": "markdown",
   "id": "30300344-fcb1-482a-bb5f-da0fd6693edd",
   "metadata": {},
   "source": [
    "## Q7. Design and implement at least two hidden layers and an output layer for the binary categorical variables."
   ]
  },
  {
   "cell_type": "code",
   "execution_count": 21,
   "id": "ef6d70fc-ce07-4b6d-8dc0-1eb847416144",
   "metadata": {},
   "outputs": [],
   "source": [
    "#Creating our NEURAL Network Structure\n",
    "from tensorflow.keras.layers import Input, Dense\n",
    "\n",
    "LAYERS = [keras.layers.Input(shape=X_train.shape[1:],name=\"InputLayer\"),\n",
    "          keras.layers.Dense(500,activation='relu',name=\"HiddenLayer1\"),\n",
    "          keras.layers.Dense(250,activation='relu',name=\"HiddenLayer2\"),\n",
    "          keras.layers.Dense(100,activation='relu',name=\"HiddenLayer3\"),\n",
    "          keras.layers.Dense(1,activation='sigmoid',name=\"OutputLayer\")\n",
    "         ]"
   ]
  },
  {
   "cell_type": "markdown",
   "id": "13b97415-ac76-4e2a-9f0b-f828030018c6",
   "metadata": {},
   "source": [
    "## Q8. Create a Sequential model in Keras and add the previously designed layers to it."
   ]
  },
  {
   "cell_type": "code",
   "execution_count": 22,
   "id": "a614e283-f2c1-4312-ba1a-0d7ca56b54a6",
   "metadata": {},
   "outputs": [],
   "source": [
    "#Creating a Sequential Model using our defined our layers\n",
    "model = keras.models.Sequential(LAYERS)"
   ]
  },
  {
   "cell_type": "code",
   "execution_count": 23,
   "id": "e5c3e4ef-3ae8-4294-a1b6-c2526256e0db",
   "metadata": {},
   "outputs": [
    {
     "data": {
      "text/plain": [
       "[<keras.src.layers.core.dense.Dense at 0x7f1d8690dc30>,\n",
       " <keras.src.layers.core.dense.Dense at 0x7f1d868f9f90>,\n",
       " <keras.src.layers.core.dense.Dense at 0x7f1d868f9f30>,\n",
       " <keras.src.layers.core.dense.Dense at 0x7f1d868f9720>]"
      ]
     },
     "execution_count": 23,
     "metadata": {},
     "output_type": "execute_result"
    }
   ],
   "source": [
    "#Layers present in our NEURAL NETWORK\n",
    "model.layers"
   ]
  },
  {
   "cell_type": "markdown",
   "id": "344c1b22-d025-4300-bf1f-012dedc342f7",
   "metadata": {},
   "source": [
    "## Q9. Print the summary of the model architecture."
   ]
  },
  {
   "cell_type": "code",
   "execution_count": 24,
   "id": "d0304f89-a213-4c97-ac9a-d91e467ab2af",
   "metadata": {},
   "outputs": [
    {
     "name": "stdout",
     "output_type": "stream",
     "text": [
      "Model: \"sequential\"\n",
      "_________________________________________________________________\n",
      " Layer (type)                Output Shape              Param #   \n",
      "=================================================================\n",
      " HiddenLayer1 (Dense)        (None, 500)               6000      \n",
      "                                                                 \n",
      " HiddenLayer2 (Dense)        (None, 250)               125250    \n",
      "                                                                 \n",
      " HiddenLayer3 (Dense)        (None, 100)               25100     \n",
      "                                                                 \n",
      " OutputLayer (Dense)         (None, 1)                 101       \n",
      "                                                                 \n",
      "=================================================================\n",
      "Total params: 156451 (611.14 KB)\n",
      "Trainable params: 156451 (611.14 KB)\n",
      "Non-trainable params: 0 (0.00 Byte)\n",
      "_________________________________________________________________\n"
     ]
    }
   ],
   "source": [
    "#Summary of model architecture\n",
    "model.summary()"
   ]
  },
  {
   "cell_type": "markdown",
   "id": "89b0c496-248c-429b-bc41-4874e36f65d2",
   "metadata": {},
   "source": [
    "## Q10. Set the loss function(‘binary_crossentropy’), optimizer, and include the accuracy metric in the model."
   ]
  },
  {
   "cell_type": "code",
   "execution_count": 25,
   "id": "9c3dd0d7-2ec4-4e85-a08b-dc7ef007bbd3",
   "metadata": {},
   "outputs": [],
   "source": [
    "#Defining our loss function,optimizer and metrics\n",
    "LOSS_FUNCTION = \"binary_crossentropy\"\n",
    "OPTIMIZER = \"Adam\"\n",
    "METRICS = [\"accuracy\"]"
   ]
  },
  {
   "cell_type": "markdown",
   "id": "e48e15c0-ee99-4ddb-9a02-973a4d88565c",
   "metadata": {},
   "source": [
    "## Q11. Compile the model with the specified loss function, optimizer, and metrics."
   ]
  },
  {
   "cell_type": "code",
   "execution_count": 26,
   "id": "5ba054e7-6cbe-42ff-a229-db5012760410",
   "metadata": {},
   "outputs": [],
   "source": [
    "#Fitting our defined metrics in the model\n",
    "model.compile(loss=LOSS_FUNCTION,\n",
    "              optimizer=OPTIMIZER,\n",
    "              metrics=METRICS)"
   ]
  },
  {
   "cell_type": "markdown",
   "id": "5bf95329-607b-40d7-941d-eeefc4ba080c",
   "metadata": {},
   "source": [
    "## Q12. Fit the model to the training data using appropriate batch size and number of epochs."
   ]
  },
  {
   "cell_type": "code",
   "execution_count": 27,
   "id": "4447492c-8cf1-45c3-abfa-2e2eecc122ff",
   "metadata": {},
   "outputs": [
    {
     "name": "stdout",
     "output_type": "stream",
     "text": [
      "Epoch 1/15\n",
      "29/29 - 1s - loss: 0.5832 - accuracy: 0.7077 - val_loss: 0.5206 - val_accuracy: 0.7294 - 1s/epoch - 46ms/step\n",
      "Epoch 2/15\n",
      "29/29 - 0s - loss: 0.5195 - accuracy: 0.7376 - val_loss: 0.5115 - val_accuracy: 0.7294 - 154ms/epoch - 5ms/step\n",
      "Epoch 3/15\n",
      "29/29 - 0s - loss: 0.5057 - accuracy: 0.7480 - val_loss: 0.5135 - val_accuracy: 0.7431 - 154ms/epoch - 5ms/step\n",
      "Epoch 4/15\n",
      "29/29 - 0s - loss: 0.4851 - accuracy: 0.7572 - val_loss: 0.5261 - val_accuracy: 0.7431 - 145ms/epoch - 5ms/step\n",
      "Epoch 5/15\n",
      "29/29 - 0s - loss: 0.4842 - accuracy: 0.7733 - val_loss: 0.5177 - val_accuracy: 0.7523 - 148ms/epoch - 5ms/step\n",
      "Epoch 6/15\n",
      "29/29 - 0s - loss: 0.4708 - accuracy: 0.7652 - val_loss: 0.5496 - val_accuracy: 0.7385 - 142ms/epoch - 5ms/step\n",
      "Epoch 7/15\n",
      "29/29 - 0s - loss: 0.4583 - accuracy: 0.7837 - val_loss: 0.5263 - val_accuracy: 0.7477 - 143ms/epoch - 5ms/step\n",
      "Epoch 8/15\n",
      "29/29 - 0s - loss: 0.4404 - accuracy: 0.7860 - val_loss: 0.5285 - val_accuracy: 0.7569 - 145ms/epoch - 5ms/step\n",
      "Epoch 9/15\n",
      "29/29 - 0s - loss: 0.4351 - accuracy: 0.7929 - val_loss: 0.5335 - val_accuracy: 0.7615 - 160ms/epoch - 6ms/step\n",
      "Epoch 10/15\n",
      "29/29 - 0s - loss: 0.4238 - accuracy: 0.7906 - val_loss: 0.5682 - val_accuracy: 0.7431 - 140ms/epoch - 5ms/step\n",
      "Epoch 11/15\n",
      "29/29 - 0s - loss: 0.4114 - accuracy: 0.8021 - val_loss: 0.5432 - val_accuracy: 0.7385 - 142ms/epoch - 5ms/step\n",
      "Epoch 12/15\n",
      "29/29 - 0s - loss: 0.3960 - accuracy: 0.8159 - val_loss: 0.6090 - val_accuracy: 0.7202 - 140ms/epoch - 5ms/step\n",
      "Epoch 13/15\n",
      "29/29 - 0s - loss: 0.4011 - accuracy: 0.8090 - val_loss: 0.5582 - val_accuracy: 0.7523 - 146ms/epoch - 5ms/step\n",
      "Epoch 14/15\n",
      "29/29 - 0s - loss: 0.3895 - accuracy: 0.8239 - val_loss: 0.5737 - val_accuracy: 0.7431 - 148ms/epoch - 5ms/step\n",
      "Epoch 15/15\n",
      "29/29 - 0s - loss: 0.3777 - accuracy: 0.8262 - val_loss: 0.6174 - val_accuracy: 0.7064 - 157ms/epoch - 5ms/step\n"
     ]
    }
   ],
   "source": [
    "#Setting batch size and number of epochs\n",
    "batch_size = 31\n",
    "epoch = 15\n",
    "\n",
    "\n",
    "#Fitting the model to the training data without using callbacks\n",
    "history = model.fit(X_train, y_train,\n",
    "                    epochs=epoch,\n",
    "                    batch_size=batch_size,\n",
    "                    verbose =2,\n",
    "                    validation_data=(X_valid, y_valid)\n",
    "\n",
    "                        )"
   ]
  },
  {
   "cell_type": "code",
   "execution_count": 28,
   "id": "eb27f0cb-1a80-4e8a-a5fd-f63837fc6c48",
   "metadata": {},
   "outputs": [
    {
     "data": {
      "text/plain": [
       "{'verbose': 2, 'epochs': 15, 'steps': 29}"
      ]
     },
     "execution_count": 28,
     "metadata": {},
     "output_type": "execute_result"
    }
   ],
   "source": [
    "history.params"
   ]
  },
  {
   "cell_type": "code",
   "execution_count": 30,
   "id": "82a9c390-f06c-4a24-aaaf-acc50039ff21",
   "metadata": {},
   "outputs": [
    {
     "name": "stdout",
     "output_type": "stream",
     "text": [
      "Epoch 1/15\n",
      "29/29 - 0s - loss: 0.4108 - accuracy: 0.8067 - val_loss: 0.5526 - val_accuracy: 0.7431 - 228ms/epoch - 8ms/step\n",
      "Epoch 2/15\n",
      "29/29 - 0s - loss: 0.3585 - accuracy: 0.8435 - val_loss: 0.6125 - val_accuracy: 0.7339 - 145ms/epoch - 5ms/step\n",
      "Epoch 3/15\n"
     ]
    },
    {
     "name": "stderr",
     "output_type": "stream",
     "text": [
      "/opt/conda/lib/python3.10/site-packages/keras/src/engine/training.py:3103: UserWarning: You are saving your model as an HDF5 file via `model.save()`. This file format is considered legacy. We recommend using instead the native Keras format, e.g. `model.save('my_model.keras')`.\n",
      "  saving_api.save_model(\n"
     ]
    },
    {
     "name": "stdout",
     "output_type": "stream",
     "text": [
      "29/29 - 0s - loss: 0.3642 - accuracy: 0.8331 - val_loss: 0.5846 - val_accuracy: 0.7339 - 163ms/epoch - 6ms/step\n"
     ]
    }
   ],
   "source": [
    "#Setting the params for the callbacks\n",
    "tensorboard_callback = keras.callbacks.TensorBoard(log_dir='./logs', histogram_freq=1)\n",
    "checkpoint_cb = keras.callbacks.ModelCheckpoint(\"my_keras_model.h5\", save_best_only=True)\n",
    "early_stopping_cb = keras.callbacks.EarlyStopping(patience=5, restore_best_weights=True)\n",
    "\n",
    "#Storing the setted params of callbacks in a list\n",
    "CALLBACKS = [early_stopping_cb,early_stopping_cb,checkpoint_cb]\n",
    "\n",
    "\n",
    "#Fitting the model to the training data with using callbacks\n",
    "history_callbacks = model.fit(X_train, y_train,\n",
    "                        epochs=epoch,\n",
    "                        batch_size=batch_size,\n",
    "                        validation_data=(X_valid, y_valid),\n",
    "                        verbose = 2,\n",
    "                        callbacks= CALLBACKS )"
   ]
  },
  {
   "cell_type": "code",
   "execution_count": 31,
   "id": "f7522773-24af-4053-997f-fa278459ebe5",
   "metadata": {},
   "outputs": [
    {
     "data": {
      "text/plain": [
       "{'verbose': 2, 'epochs': 15, 'steps': 29}"
      ]
     },
     "execution_count": 31,
     "metadata": {},
     "output_type": "execute_result"
    }
   ],
   "source": [
    "history_callbacks.params"
   ]
  },
  {
   "cell_type": "markdown",
   "id": "1f2854f6-1ab3-4751-94a4-eabbeb4d46ec",
   "metadata": {},
   "source": [
    "## Q13. Obtain the model's parameters (weights and biases)."
   ]
  },
  {
   "cell_type": "code",
   "execution_count": 33,
   "id": "d3ddbc49-fcec-4924-bd68-add4d5a6e6b2",
   "metadata": {},
   "outputs": [
    {
     "data": {
      "text/plain": [
       "('HiddenLayer1', 'HiddenLayer2', 'HiddenLayer3', 'OutputLayer')"
      ]
     },
     "execution_count": 33,
     "metadata": {},
     "output_type": "execute_result"
    }
   ],
   "source": [
    "#Acessing each layer\n",
    "layer1 = model.layers[0]\n",
    "layer2 = model.layers[1]\n",
    "layer3 = model.layers[2]\n",
    "layer4 = model.layers[3]\n",
    "layer1.name , layer2.name , layer3.name , layer4.name"
   ]
  },
  {
   "cell_type": "code",
   "execution_count": 34,
   "id": "665a3a2b-a12b-4825-b13d-ba220e0b61ce",
   "metadata": {},
   "outputs": [],
   "source": [
    "#Getting weights and biases of the first hidden layer and output layer\n",
    "weights1 , biases1 = layer1.get_weights()\n",
    "weights2 , biases2 = layer4.get_weights()"
   ]
  },
  {
   "cell_type": "code",
   "execution_count": 35,
   "id": "6d4592e2-a2aa-4961-86b2-87d8df2ec701",
   "metadata": {},
   "outputs": [
    {
     "data": {
      "text/plain": [
       "((11, 500),\n",
       " array([[-5.27332798e-02,  2.04855204e-02,  5.21062966e-03, ...,\n",
       "          8.24064482e-05, -3.65097052e-03,  9.83051732e-02],\n",
       "        [ 9.61775035e-02,  1.10942200e-01,  1.13820560e-01, ...,\n",
       "         -4.35701348e-02,  1.69488281e-01, -9.97130647e-02],\n",
       "        [ 7.68758133e-02, -3.58933210e-02,  4.44905683e-02, ...,\n",
       "          1.65543929e-02,  1.20782349e-02, -2.00161487e-02],\n",
       "        [ 5.83238713e-02, -1.12175502e-01, -1.09690735e-02, ...,\n",
       "         -4.87803062e-03, -2.97084190e-02,  5.45992143e-02],\n",
       "        [-6.36212304e-02,  6.58002943e-02,  6.24703690e-02, ...,\n",
       "          8.02050680e-02,  5.24713397e-02, -4.36606333e-02]], dtype=float32))"
      ]
     },
     "execution_count": 35,
     "metadata": {},
     "output_type": "execute_result"
    }
   ],
   "source": [
    "#Printing first hidden layer weights shape and first 5 weights\n",
    "weights1.shape , weights1[:5]"
   ]
  },
  {
   "cell_type": "code",
   "execution_count": 36,
   "id": "0ee10903-ca43-4873-b762-0d0086b11fd6",
   "metadata": {},
   "outputs": [
    {
     "data": {
      "text/plain": [
       "((500,),\n",
       " array([-0.0454016 , -0.03850864, -0.00589377, -0.01907232, -0.01577676],\n",
       "       dtype=float32))"
      ]
     },
     "execution_count": 36,
     "metadata": {},
     "output_type": "execute_result"
    }
   ],
   "source": [
    "#Printing first hidden layer baises shape and first 5 baises\n",
    "biases1.shape , biases1[:5]"
   ]
  },
  {
   "cell_type": "code",
   "execution_count": 37,
   "id": "c51b7b7e-7242-48b3-bd19-7cfd20c16ca4",
   "metadata": {},
   "outputs": [
    {
     "data": {
      "text/plain": [
       "((100, 1),\n",
       " array([[-0.14443025],\n",
       "        [ 0.24022788],\n",
       "        [ 0.23018223],\n",
       "        [-0.09172979],\n",
       "        [-0.24084511]], dtype=float32))"
      ]
     },
     "execution_count": 37,
     "metadata": {},
     "output_type": "execute_result"
    }
   ],
   "source": [
    "#Printing output layer weights shape and first 5 weights\n",
    "weights2.shape , weights2[:5]"
   ]
  },
  {
   "cell_type": "code",
   "execution_count": 38,
   "id": "30836b46-381b-4046-afb9-6011c45c4261",
   "metadata": {},
   "outputs": [
    {
     "data": {
      "text/plain": [
       "((1,), array([0.02420064], dtype=float32))"
      ]
     },
     "execution_count": 38,
     "metadata": {},
     "output_type": "execute_result"
    }
   ],
   "source": [
    "#Printing output layer biases shape and first 5 weights\n",
    "biases2.shape , biases2[:5]"
   ]
  },
  {
   "cell_type": "markdown",
   "id": "ca036aef-4b32-49a3-81cb-ee9ab9d479ed",
   "metadata": {},
   "source": [
    "## Q14. Store the model's training history as a Pandas DataFrame."
   ]
  },
  {
   "cell_type": "code",
   "execution_count": 39,
   "id": "eecfcaf9-fea6-46ed-9db4-ef53b420bcc9",
   "metadata": {},
   "outputs": [
    {
     "data": {
      "text/html": [
       "<div>\n",
       "<style scoped>\n",
       "    .dataframe tbody tr th:only-of-type {\n",
       "        vertical-align: middle;\n",
       "    }\n",
       "\n",
       "    .dataframe tbody tr th {\n",
       "        vertical-align: top;\n",
       "    }\n",
       "\n",
       "    .dataframe thead th {\n",
       "        text-align: right;\n",
       "    }\n",
       "</style>\n",
       "<table border=\"1\" class=\"dataframe\">\n",
       "  <thead>\n",
       "    <tr style=\"text-align: right;\">\n",
       "      <th></th>\n",
       "      <th>loss</th>\n",
       "      <th>accuracy</th>\n",
       "      <th>val_loss</th>\n",
       "      <th>val_accuracy</th>\n",
       "    </tr>\n",
       "  </thead>\n",
       "  <tbody>\n",
       "    <tr>\n",
       "      <th>0</th>\n",
       "      <td>0.583190</td>\n",
       "      <td>0.707710</td>\n",
       "      <td>0.520590</td>\n",
       "      <td>0.729358</td>\n",
       "    </tr>\n",
       "    <tr>\n",
       "      <th>1</th>\n",
       "      <td>0.519474</td>\n",
       "      <td>0.737629</td>\n",
       "      <td>0.511478</td>\n",
       "      <td>0.729358</td>\n",
       "    </tr>\n",
       "    <tr>\n",
       "      <th>2</th>\n",
       "      <td>0.505674</td>\n",
       "      <td>0.747986</td>\n",
       "      <td>0.513454</td>\n",
       "      <td>0.743119</td>\n",
       "    </tr>\n",
       "    <tr>\n",
       "      <th>3</th>\n",
       "      <td>0.485093</td>\n",
       "      <td>0.757192</td>\n",
       "      <td>0.526115</td>\n",
       "      <td>0.743119</td>\n",
       "    </tr>\n",
       "    <tr>\n",
       "      <th>4</th>\n",
       "      <td>0.484217</td>\n",
       "      <td>0.773303</td>\n",
       "      <td>0.517704</td>\n",
       "      <td>0.752294</td>\n",
       "    </tr>\n",
       "    <tr>\n",
       "      <th>5</th>\n",
       "      <td>0.470842</td>\n",
       "      <td>0.765247</td>\n",
       "      <td>0.549601</td>\n",
       "      <td>0.738532</td>\n",
       "    </tr>\n",
       "    <tr>\n",
       "      <th>6</th>\n",
       "      <td>0.458325</td>\n",
       "      <td>0.783659</td>\n",
       "      <td>0.526347</td>\n",
       "      <td>0.747706</td>\n",
       "    </tr>\n",
       "    <tr>\n",
       "      <th>7</th>\n",
       "      <td>0.440423</td>\n",
       "      <td>0.785961</td>\n",
       "      <td>0.528512</td>\n",
       "      <td>0.756881</td>\n",
       "    </tr>\n",
       "    <tr>\n",
       "      <th>8</th>\n",
       "      <td>0.435144</td>\n",
       "      <td>0.792865</td>\n",
       "      <td>0.533518</td>\n",
       "      <td>0.761468</td>\n",
       "    </tr>\n",
       "    <tr>\n",
       "      <th>9</th>\n",
       "      <td>0.423760</td>\n",
       "      <td>0.790564</td>\n",
       "      <td>0.568208</td>\n",
       "      <td>0.743119</td>\n",
       "    </tr>\n",
       "    <tr>\n",
       "      <th>10</th>\n",
       "      <td>0.411412</td>\n",
       "      <td>0.802071</td>\n",
       "      <td>0.543219</td>\n",
       "      <td>0.738532</td>\n",
       "    </tr>\n",
       "    <tr>\n",
       "      <th>11</th>\n",
       "      <td>0.396044</td>\n",
       "      <td>0.815880</td>\n",
       "      <td>0.608992</td>\n",
       "      <td>0.720183</td>\n",
       "    </tr>\n",
       "    <tr>\n",
       "      <th>12</th>\n",
       "      <td>0.401109</td>\n",
       "      <td>0.808976</td>\n",
       "      <td>0.558158</td>\n",
       "      <td>0.752294</td>\n",
       "    </tr>\n",
       "    <tr>\n",
       "      <th>13</th>\n",
       "      <td>0.389457</td>\n",
       "      <td>0.823936</td>\n",
       "      <td>0.573720</td>\n",
       "      <td>0.743119</td>\n",
       "    </tr>\n",
       "    <tr>\n",
       "      <th>14</th>\n",
       "      <td>0.377677</td>\n",
       "      <td>0.826237</td>\n",
       "      <td>0.617434</td>\n",
       "      <td>0.706422</td>\n",
       "    </tr>\n",
       "  </tbody>\n",
       "</table>\n",
       "</div>"
      ],
      "text/plain": [
       "        loss  accuracy  val_loss  val_accuracy\n",
       "0   0.583190  0.707710  0.520590      0.729358\n",
       "1   0.519474  0.737629  0.511478      0.729358\n",
       "2   0.505674  0.747986  0.513454      0.743119\n",
       "3   0.485093  0.757192  0.526115      0.743119\n",
       "4   0.484217  0.773303  0.517704      0.752294\n",
       "5   0.470842  0.765247  0.549601      0.738532\n",
       "6   0.458325  0.783659  0.526347      0.747706\n",
       "7   0.440423  0.785961  0.528512      0.756881\n",
       "8   0.435144  0.792865  0.533518      0.761468\n",
       "9   0.423760  0.790564  0.568208      0.743119\n",
       "10  0.411412  0.802071  0.543219      0.738532\n",
       "11  0.396044  0.815880  0.608992      0.720183\n",
       "12  0.401109  0.808976  0.558158      0.752294\n",
       "13  0.389457  0.823936  0.573720      0.743119\n",
       "14  0.377677  0.826237  0.617434      0.706422"
      ]
     },
     "execution_count": 39,
     "metadata": {},
     "output_type": "execute_result"
    }
   ],
   "source": [
    "#Storing model history before using callbacks in a dataframe\n",
    "model_history_df = pd.DataFrame(history.history)\n",
    "model_history_df"
   ]
  },
  {
   "cell_type": "code",
   "execution_count": 40,
   "id": "1e525b20-e52d-46dd-80aa-58aa427db299",
   "metadata": {},
   "outputs": [
    {
     "data": {
      "text/html": [
       "<div>\n",
       "<style scoped>\n",
       "    .dataframe tbody tr th:only-of-type {\n",
       "        vertical-align: middle;\n",
       "    }\n",
       "\n",
       "    .dataframe tbody tr th {\n",
       "        vertical-align: top;\n",
       "    }\n",
       "\n",
       "    .dataframe thead th {\n",
       "        text-align: right;\n",
       "    }\n",
       "</style>\n",
       "<table border=\"1\" class=\"dataframe\">\n",
       "  <thead>\n",
       "    <tr style=\"text-align: right;\">\n",
       "      <th></th>\n",
       "      <th>loss</th>\n",
       "      <th>accuracy</th>\n",
       "      <th>val_loss</th>\n",
       "      <th>val_accuracy</th>\n",
       "    </tr>\n",
       "  </thead>\n",
       "  <tbody>\n",
       "    <tr>\n",
       "      <th>0</th>\n",
       "      <td>0.410784</td>\n",
       "      <td>0.806674</td>\n",
       "      <td>0.552579</td>\n",
       "      <td>0.743119</td>\n",
       "    </tr>\n",
       "    <tr>\n",
       "      <th>1</th>\n",
       "      <td>0.358479</td>\n",
       "      <td>0.843498</td>\n",
       "      <td>0.612527</td>\n",
       "      <td>0.733945</td>\n",
       "    </tr>\n",
       "    <tr>\n",
       "      <th>2</th>\n",
       "      <td>0.364157</td>\n",
       "      <td>0.833142</td>\n",
       "      <td>0.584642</td>\n",
       "      <td>0.733945</td>\n",
       "    </tr>\n",
       "  </tbody>\n",
       "</table>\n",
       "</div>"
      ],
      "text/plain": [
       "       loss  accuracy  val_loss  val_accuracy\n",
       "0  0.410784  0.806674  0.552579      0.743119\n",
       "1  0.358479  0.843498  0.612527      0.733945\n",
       "2  0.364157  0.833142  0.584642      0.733945"
      ]
     },
     "execution_count": 40,
     "metadata": {},
     "output_type": "execute_result"
    }
   ],
   "source": [
    "#Storing model history after using callbacks in a dataframe\n",
    "\n",
    "model_history_df_callbacks = pd.DataFrame(history_callbacks.history)\n",
    "model_history_df_callbacks"
   ]
  },
  {
   "cell_type": "markdown",
   "id": "1138374e-89d3-4bf1-9aae-0730df5da582",
   "metadata": {},
   "source": [
    "## Q15. Plot the training history (e.g., accuracy and loss) using suitable visualization techniques."
   ]
  },
  {
   "cell_type": "code",
   "execution_count": 41,
   "id": "a26ef5de-aca0-4309-977b-e0f34194468a",
   "metadata": {},
   "outputs": [
    {
     "data": {
      "text/plain": [
       "<AxesSubplot: >"
      ]
     },
     "execution_count": 41,
     "metadata": {},
     "output_type": "execute_result"
    },
    {
     "data": {
      "image/png": "[encoded data removed]",
      "text/plain": [
       "<Figure size 640x480 with 1 Axes>"
      ]
     },
     "metadata": {},
     "output_type": "display_data"
    }
   ],
   "source": [
    "#Plot the model history before using callbacks\n",
    "model_history_df.plot()"
   ]
  },
  {
   "cell_type": "code",
   "execution_count": 42,
   "id": "6896ab77-b06f-4faa-8aeb-3a5b086f5617",
   "metadata": {},
   "outputs": [
    {
     "data": {
      "text/plain": [
       "<AxesSubplot: >"
      ]
     },
     "execution_count": 42,
     "metadata": {},
     "output_type": "execute_result"
    },
    {
     "data": {
      "image/png": "[encoded data removed]",
      "text/plain": [
       "<Figure size 640x480 with 1 Axes>"
      ]
     },
     "metadata": {},
     "output_type": "display_data"
    }
   ],
   "source": [
    "#Plot the model history after using callbacks\n",
    "model_history_df_callbacks.plot()"
   ]
  },
  {
   "cell_type": "markdown",
   "id": "ab17452b-84a0-4ae6-be9f-25dc730f4b12",
   "metadata": {},
   "source": [
    "## Q16. Evaluate the model's performance using the test dataset and report relevant metrics."
   ]
  },
  {
   "cell_type": "code",
   "execution_count": 43,
   "id": "29ba84b3-87d3-46a5-bd3b-10233a1d1f50",
   "metadata": {},
   "outputs": [
    {
     "name": "stdout",
     "output_type": "stream",
     "text": [
      "9/9 [==============================] - 0s 2ms/step - loss: 0.5445 - accuracy: 0.7059\n"
     ]
    },
    {
     "data": {
      "text/plain": [
       "[0.5445038080215454, 0.7058823704719543]"
      ]
     },
     "execution_count": 43,
     "metadata": {},
     "output_type": "execute_result"
    }
   ],
   "source": [
    "#Evaluating the model performance after using callback functions\n",
    "model.evaluate(X_test,y_test)"
   ]
  },
  {
   "cell_type": "code",
   "execution_count": 45,
   "id": "0a0b0376-be8f-45f1-a3ef-5471c81846a6",
   "metadata": {},
   "outputs": [
    {
     "name": "stderr",
     "output_type": "stream",
     "text": [
      "/tmp/ipykernel_567/3298957586.py:5: FutureWarning: The behavior of `series[i:j]` with an integer-dtype index is deprecated. In a future version, this will be treated as *label-based* indexing, consistent with e.g. `series[i]` lookups. To retain the old behavior, use `series.iloc[i:j]`. To get the future behavior, use `series.loc[i:j]`.\n",
      "  actual = y_test[:10]\n"
     ]
    },
    {
     "data": {
      "text/plain": [
       "55      0\n",
       "1291    1\n",
       "1544    1\n",
       "593     0\n",
       "1261    0\n",
       "491     1\n",
       "1004    0\n",
       "889     0\n",
       "1154    1\n",
       "824     0\n",
       "Name: quality, dtype: int64"
      ]
     },
     "execution_count": 45,
     "metadata": {},
     "output_type": "execute_result"
    }
   ],
   "source": [
    "#To predict these values passing a sample of 10 values from the x_test\n",
    "x_new = X_test[:10]\n",
    "\n",
    "#The actual classes of these 10 samples passed\n",
    "actual = y_test[:10]\n",
    "actual\n"
   ]
  },
  {
   "cell_type": "code",
   "execution_count": 46,
   "id": "9770e10b-15f1-4726-bd11-86b38ac5ecbb",
   "metadata": {},
   "outputs": [
    {
     "name": "stdout",
     "output_type": "stream",
     "text": [
      "1/1 [==============================] - 0s 102ms/step\n"
     ]
    },
    {
     "data": {
      "text/plain": [
       "array([[0.109],\n",
       "       [0.938],\n",
       "       [0.995],\n",
       "       [0.112],\n",
       "       [0.528],\n",
       "       [0.995],\n",
       "       [0.309],\n",
       "       [0.089],\n",
       "       [0.754],\n",
       "       [0.275]], dtype=float32)"
      ]
     },
     "execution_count": 46,
     "metadata": {},
     "output_type": "execute_result"
    }
   ],
   "source": [
    "#Probalities of the sample values passed\n",
    "y_prob = model.predict(x_new)\n",
    "y_prob.round(3)"
   ]
  },
  {
   "cell_type": "code",
   "execution_count": 47,
   "id": "e2fc2c69-a362-495c-b18c-f77798021b05",
   "metadata": {},
   "outputs": [],
   "source": [
    "# Predict with threshold set as 0.5,if values have a probality greater than 05 they belong to class 1 else they belong to class 0\n",
    "thr = 0.5\n",
    "ypred = []\n",
    "for i in y_prob:\n",
    "    if i>=0.5:\n",
    "        ypred.append(1)\n",
    "    else:\n",
    "        ypred.append(0)"
   ]
  },
  {
   "cell_type": "code",
   "execution_count": 48,
   "id": "637af519-b859-4ff0-a731-e27ce9513a1e",
   "metadata": {},
   "outputs": [
    {
     "data": {
      "text/plain": [
       "[0, 1, 1, 0, 0, 1, 0, 0, 1, 0]"
      ]
     },
     "execution_count": 48,
     "metadata": {},
     "output_type": "execute_result"
    }
   ],
   "source": [
    "list(actual)"
   ]
  },
  {
   "cell_type": "code",
   "execution_count": 49,
   "id": "718865b5-2a06-4e1c-9b4f-f3056dee7ba9",
   "metadata": {},
   "outputs": [
    {
     "data": {
      "text/plain": [
       "[0, 1, 1, 0, 1, 1, 0, 0, 1, 0]"
      ]
     },
     "execution_count": 49,
     "metadata": {},
     "output_type": "execute_result"
    }
   ],
   "source": [
    "ypred"
   ]
  },
  {
   "cell_type": "code",
   "execution_count": 50,
   "id": "325a499d-0b8c-4160-8b54-13dd2b68ffcd",
   "metadata": {},
   "outputs": [
    {
     "name": "stdout",
     "output_type": "stream",
     "text": [
      "9/9 [==============================] - 0s 2ms/step\n",
      "[[98 37]\n",
      " [43 94]]\n",
      "=================================================\n",
      "              precision    recall  f1-score   support\n",
      "\n",
      "           0       0.70      0.73      0.71       135\n",
      "           1       0.72      0.69      0.70       137\n",
      "\n",
      "    accuracy                           0.71       272\n",
      "   macro avg       0.71      0.71      0.71       272\n",
      "weighted avg       0.71      0.71      0.71       272\n",
      "\n"
     ]
    }
   ],
   "source": [
    "#Evaluating the Model Performance\n",
    "from sklearn.metrics import classification_report,confusion_matrix\n",
    "\n",
    "y_prob = model.predict(X_test)\n",
    "\n",
    "# Predict with threshold set as 0.5,if values have a probality greater than 05 they belong to class 1 else they belong to class 0\n",
    "thr = 0.5\n",
    "ypred = []\n",
    "for i in y_prob:\n",
    "    if i>=0.5:\n",
    "        ypred.append(1)\n",
    "    else:\n",
    "        ypred.append(0)\n",
    "\n",
    "print(confusion_matrix(y_test,ypred))\n",
    "print(\"=================================================\")\n",
    "print(classification_report(y_test,ypred))"
   ]
  },
  {
   "cell_type": "code",
   "execution_count": null,
   "id": "5dce0385-9a96-44be-ae45-98028c296c27",
   "metadata": {},
   "outputs": [],
   "source": []
  }
 ],
 "metadata": {
  "kernelspec": {
   "display_name": "Python 3 (ipykernel)",
   "language": "python",
   "name": "python3"
  },
  "language_info": {
   "codemirror_mode": {
    "name": "ipython",
    "version": 3
   },
   "file_extension": ".py",
   "mimetype": "text/x-python",
   "name": "python",
   "nbconvert_exporter": "python",
   "pygments_lexer": "ipython3",
   "version": "3.10.8"
  }
 },
 "nbformat": 4,
 "nbformat_minor": 5
}
